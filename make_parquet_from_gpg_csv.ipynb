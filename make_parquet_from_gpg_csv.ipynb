{
 "cells": [
  {
   "cell_type": "code",
   "execution_count": 1,
   "metadata": {},
   "outputs": [],
   "source": [
    "import os\n",
    "import shutil\n",
    "import gnupg\n",
    "# gnupg.__version__\n",
    "from pprint import pprint\n",
    "from pyspark.sql import *\n",
    "%load_ext pycodestyle_magic\n",
    "from pyspark import SparkContext\n",
    "sc = SparkContext()\n",
    "sqlContext = SQLContext(sc)"
   ]
  },
  {
   "cell_type": "code",
   "execution_count": 2,
   "metadata": {
    "scrolled": true
   },
   "outputs": [
    {
     "name": "stdout",
     "output_type": "stream",
     "text": [
      "/home/david/deeplearning_cpu/python-data-bricks-sample\n",
      "public keys:\n",
      "[{'algo': '1',\n",
      "  'cap': 'scESC',\n",
      "  'compliance': '',\n",
      "  'curve': '',\n",
      "  'date': '1519158845',\n",
      "  'dummy': '',\n",
      "  'expires': '',\n",
      "  'fingerprint': 'F48475940AC469A6604A15127D4CE3C056D601F5',\n",
      "  'flag': '',\n",
      "  'hash': '',\n",
      "  'issuer': '',\n",
      "  'keyid': '7D4CE3C056D601F5',\n",
      "  'length': '2048',\n",
      "  'origin': 'unavailable',\n",
      "  'ownertrust': '-',\n",
      "  'sig': '',\n",
      "  'sigs': [],\n",
      "  'subkey_info': {'857D0D1AA09F19F8': {'algo': '1',\n",
      "                                       'cap': 'e',\n",
      "                                       'compliance': '',\n",
      "                                       'curve': '',\n",
      "                                       'date': '1519158845',\n",
      "                                       'dummy': '',\n",
      "                                       'expires': '',\n",
      "                                       'flag': '',\n",
      "                                       'hash': '',\n",
      "                                       'issuer': '',\n",
      "                                       'keyid': '857D0D1AA09F19F8',\n",
      "                                       'length': '2048',\n",
      "                                       'origin': 'unavailable',\n",
      "                                       'ownertrust': '',\n",
      "                                       'sig': '',\n",
      "                                       'token': '',\n",
      "                                       'trust': '-',\n",
      "                                       'type': 'sub',\n",
      "                                       'uid': '',\n",
      "                                       'updated': 'unavailable'}},\n",
      "  'subkeys': [['857D0D1AA09F19F8',\n",
      "               'e',\n",
      "               '18075C2E6442DAFF86C263AC857D0D1AA09F19F8']],\n",
      "  'token': '',\n",
      "  'trust': '-',\n",
      "  'type': 'pub',\n",
      "  'uids': ['Slim Shady (The Real One) '\n",
      "           '<real.slim.shady@5th-ave-trailer-park.com>'],\n",
      "  'updated': ''}]\n",
      "private keys:\n",
      "[]\n",
      "[{'fingerprint': 'F48475940AC469A6604A15127D4CE3C056D601F5',\n",
      "  'ok': '0',\n",
      "  'text': 'Not actually changed\\n'}]\n",
      "[{'fingerprint': 'F48475940AC469A6604A15127D4CE3C056D601F5',\n",
      "  'ok': '0',\n",
      "  'text': 'Not actually changed\\n'},\n",
      " {'fingerprint': 'F48475940AC469A6604A15127D4CE3C056D601F5',\n",
      "  'ok': '17',\n",
      "  'text': 'Entirely new key\\nNot actually changed\\nContains private key\\n'}]\n"
     ]
    }
   ],
   "source": [
    "# %%pycodestyle\n",
    "root_dir = root_dir = os.getcwd()\n",
    "#os.path.dirname(os.path.realpath(\"./\"))\n",
    "program_subdir = \"\" #\"python-data-bricks-sample\"\n",
    "full_program_dir = root_dir #os.path.join(root_dir, program_subdir)\n",
    "print(full_program_dir)\n",
    "gpg = gnupg.GPG(gnupghome=full_program_dir)\n",
    "public_keys = gpg.list_keys()\n",
    "private_keys = gpg.list_keys(True)\n",
    "print('public keys:')\n",
    "pprint(public_keys)\n",
    "print('private keys:')\n",
    "pprint(private_keys)\n",
    "\n",
    "# key_data = open(os.path.join(full_program_dir, 'slim.shady.pub.asc')).read()\n",
    "key_data = open('slim.shady.pub.asc').read()\n",
    "# print(key_data)\n",
    "import_result = gpg.import_keys(key_data)\n",
    "pprint(import_result.results)\n",
    "# key_data = open(os.path.join(full_program_dir, 'slim.shady.sec.asc')).read()\n",
    "key_data = open('slim.shady.sec.asc').read()\n",
    "import_result = gpg.import_keys(key_data)\n",
    "pprint(import_result.results)"
   ]
  },
  {
   "cell_type": "code",
   "execution_count": 3,
   "metadata": {},
   "outputs": [
    {
     "name": "stdout",
     "output_type": "stream",
     "text": [
      "/home/david/deeplearning_cpu/python-data-bricks-sample/out.csv\n"
     ]
    },
    {
     "data": {
      "text/plain": [
       "True"
      ]
     },
     "execution_count": 3,
     "metadata": {},
     "output_type": "execute_result"
    }
   ],
   "source": [
    "# %%pycodestyle\n",
    "save_csv = os.path.join(full_program_dir, 'out.csv')\n",
    "print(save_csv)\n",
    "with open(os.path.join(full_program_dir, 'titanic.csv.gpg'), 'rb') as f:\n",
    "    status = gpg.decrypt_file(f, output=save_csv)\n",
    "status.ok"
   ]
  },
  {
   "cell_type": "code",
   "execution_count": 4,
   "metadata": {},
   "outputs": [],
   "source": [
    "# %%pycodestyle\n",
    "df = sqlContext.read.load('file://' + save_csv,\n",
    "                          format='com.databricks.spark.csv',\n",
    "                          header='true',\n",
    "                          inferSchema='true')"
   ]
  },
  {
   "cell_type": "code",
   "execution_count": 5,
   "metadata": {},
   "outputs": [
    {
     "data": {
      "text/plain": [
       "DataFrame[summary: string, RecId: string, Name: string, PassengerClass: string, Age: string, Sex: string, Survived: string, SexCode: string]"
      ]
     },
     "execution_count": 5,
     "metadata": {},
     "output_type": "execute_result"
    }
   ],
   "source": [
    "# %%pycodestyle\n",
    "df.summary()"
   ]
  },
  {
   "cell_type": "code",
   "execution_count": 6,
   "metadata": {},
   "outputs": [],
   "source": [
    "# %%pycodestyle\n",
    "titanic_parquet = os.path.join(full_program_dir, \"titanic_parquet\")\n",
    "if os.path.exists(titanic_parquet):\n",
    "    shutil.rmtree(titanic_parquet)\n",
    "# write to parquet\n",
    "df.write.parquet(titanic_parquet)"
   ]
  },
  {
   "cell_type": "code",
   "execution_count": 7,
   "metadata": {},
   "outputs": [],
   "source": [
    "# %%pycodestyle\n",
    "pardata = sqlContext.read.parquet(titanic_parquet)\n",
    "pardata.registerTempTable(\"titanic\")"
   ]
  },
  {
   "cell_type": "code",
   "execution_count": 8,
   "metadata": {},
   "outputs": [],
   "source": [
    "# %%pycodestyle\n",
    "avgage = sqlContext.sql(\"SELECT Avg(CAST(Age AS Double)), \" +\n",
    "                        \" Count(*) FROM titanic\")\n",
    "avgcount = sqlContext.sql(\"SELECT CAST(Count(Age) AS Double) \" +\n",
    "                          \"FROM titanic WHERE Age NOT IN ('NA')\")"
   ]
  },
  {
   "cell_type": "code",
   "execution_count": 9,
   "metadata": {},
   "outputs": [
    {
     "data": {
      "text/plain": [
       "567"
      ]
     },
     "execution_count": 9,
     "metadata": {},
     "output_type": "execute_result"
    }
   ],
   "source": [
    "# %%pycodestyle\n",
    "getvals = int(0.75 * avgcount.first()[0])\n",
    "getvals"
   ]
  },
  {
   "cell_type": "code",
   "execution_count": 10,
   "metadata": {},
   "outputs": [],
   "source": [
    "# %%pycodestyle\n",
    "top75pctavg = sqlContext.sql(\"SELECT Avg(Age), Count(*) FROM (\" +\n",
    "                             \" SELECT CAST(Age AS DOUBLE) \" +\n",
    "                             \" From titanic WHERE Age NOT IN (\\'NA\\') \" +\n",
    "                             \" ORDER BY Age DESC LIMIT \" + str(getvals) + \")\")"
   ]
  },
  {
   "cell_type": "code",
   "execution_count": 11,
   "metadata": {},
   "outputs": [
    {
     "name": "stdout",
     "output_type": "stream",
     "text": [
      "Average age is 30.397989417989415\n"
     ]
    }
   ],
   "source": [
    "# %%pycodestyle\n",
    "print(\"Average age is \" + str(avgage.first()[0]))"
   ]
  },
  {
   "cell_type": "code",
   "execution_count": 12,
   "metadata": {},
   "outputs": [
    {
     "name": "stdout",
     "output_type": "stream",
     "text": [
      "Top 75 percent Average age is 35.85008818342152\n"
     ]
    }
   ],
   "source": [
    "# %%pycodestyle\n",
    "print(\"Top 75 percent Average age is \" + str(top75pctavg.first()[0]))"
   ]
  },
  {
   "cell_type": "code",
   "execution_count": null,
   "metadata": {},
   "outputs": [],
   "source": []
  }
 ],
 "metadata": {
  "kernelspec": {
   "display_name": "Python 3",
   "language": "python",
   "name": "python3"
  },
  "language_info": {
   "codemirror_mode": {
    "name": "ipython",
    "version": 3
   },
   "file_extension": ".py",
   "mimetype": "text/x-python",
   "name": "python",
   "nbconvert_exporter": "python",
   "pygments_lexer": "ipython3",
   "version": "3.5.3"
  }
 },
 "nbformat": 4,
 "nbformat_minor": 2
}
